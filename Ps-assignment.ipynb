{
 "cells": [
  {
   "cell_type": "markdown",
   "id": "774d0f48",
   "metadata": {},
   "source": [
    "PROBLEM SOLVING USING PYTHON \n",
    "\n",
    "IF ELSE AND IF ELSE LADDER\n",
    "EASY QUESTIONS:\n",
    "\n",
    "1) Write a program to check if a given number is positive, negative, or zero ?"
   ]
  },
  {
   "cell_type": "code",
   "execution_count": 2,
   "id": "58ee480f",
   "metadata": {},
   "outputs": [
    {
     "name": "stdout",
     "output_type": "stream",
     "text": [
      "Positive\n"
     ]
    }
   ],
   "source": [
    "def check_sign(n):\n",
    "    if n > 0:\n",
    "        return \"Positive\"\n",
    "    elif n < 0:\n",
    "        return \"Negative\"\n",
    "    else:\n",
    "        return \"Zero\"\n",
    "num = float(input(\"Enter a number: \"))\n",
    "result = check_sign(num)\n",
    "print(result)"
   ]
  },
  {
   "cell_type": "code",
   "execution_count": 1,
   "id": "eb4c574d",
   "metadata": {},
   "outputs": [
    {
     "name": "stdout",
     "output_type": "stream",
     "text": [
      "negative\n"
     ]
    }
   ],
   "source": [
    "def check_sign(n):\n",
    "    return print(\"Positive\") if n > 0 else print(\"negative\") if n < 0 else print(\"Zero\")\n",
    "n = float(input(\"Enter a number: \"))\n",
    "check_sign(n)"
   ]
  },
  {
   "cell_type": "markdown",
   "id": "b1596965",
   "metadata": {},
   "source": [
    "2) Determine if a number is odd or even?"
   ]
  },
  {
   "cell_type": "code",
   "execution_count": null,
   "id": "fd5ae90d",
   "metadata": {},
   "outputs": [],
   "source": [
    "def check_odd_even(num):\n",
    "    if num % 2 == 0:\n",
    "        return \"Even\"\n",
    "    else:\n",
    "        return \"Odd\"\n",
    "n = int(input(\"Enter a number: \"))\n",
    "result=check_odd_even(n)\n",
    "print(result)\n"
   ]
  },
  {
   "cell_type": "markdown",
   "id": "0f1d4895",
   "metadata": {},
   "source": [
    "3) Check if a person is eligible to vote (age >= 18).\n"
   ]
  },
  {
   "cell_type": "code",
   "execution_count": 4,
   "id": "1c306710",
   "metadata": {},
   "outputs": [
    {
     "name": "stdout",
     "output_type": "stream",
     "text": [
      "u can vote\n"
     ]
    }
   ],
   "source": [
    "def check_age(a):\n",
    "    if a >= 18:\n",
    "        return print(\"u can vote\")\n",
    "    else:\n",
    "        return print(\"u can't vote\")\n",
    "check_age(22)"
   ]
  },
  {
   "cell_type": "code",
   "execution_count": 5,
   "id": "33198c38",
   "metadata": {},
   "outputs": [
    {
     "name": "stdout",
     "output_type": "stream",
     "text": [
      "u can't vote\n"
     ]
    }
   ],
   "source": [
    "def check_age(a):\n",
    "    return print(\"u can vote\") if a >=18 else print(\"u can't vote\")\n",
    "check_age(16)"
   ]
  },
  {
   "cell_type": "markdown",
   "id": "62636760",
   "metadata": {},
   "source": [
    "4) Write a program to find the greatest of two numbers ?\n"
   ]
  },
  {
   "cell_type": "code",
   "execution_count": 7,
   "id": "1daa7700",
   "metadata": {},
   "outputs": [
    {
     "name": "stdout",
     "output_type": "stream",
     "text": [
      "60\n"
     ]
    }
   ],
   "source": [
    "def greater_than(a,b):\n",
    "    if a > b:\n",
    "        return print(a)\n",
    "    else:\n",
    "        return print(b)\n",
    "greater_than(22,60)"
   ]
  },
  {
   "cell_type": "code",
   "execution_count": 6,
   "id": "01ea3b2f",
   "metadata": {},
   "outputs": [
    {
     "name": "stdout",
     "output_type": "stream",
     "text": [
      "24\n"
     ]
    }
   ],
   "source": [
    "def greater_than(a,b):\n",
    "    print(a) if a > b else print(b)\n",
    "greater_than(24,24)"
   ]
  },
  {
   "cell_type": "markdown",
   "id": "f81855df",
   "metadata": {},
   "source": [
    "5) Print \"Pass\" if a student scores more than 40 marks;\n",
    "otherwise, print \"Fail.\"?"
   ]
  },
  {
   "cell_type": "code",
   "execution_count": 8,
   "id": "93297c66",
   "metadata": {},
   "outputs": [
    {
     "name": "stdout",
     "output_type": "stream",
     "text": [
      "Pass\n"
     ]
    }
   ],
   "source": [
    "def pass_or_fail(marks):\n",
    "    if marks > 40:\n",
    "        return \"Pass\"\n",
    "    return \"Fail\"\n",
    "score = float(input(\"Enter student's marks: \"))\n",
    "result = pass_or_fail(score)\n",
    "print(result)"
   ]
  },
  {
   "cell_type": "code",
   "execution_count": 9,
   "id": "228b4654",
   "metadata": {},
   "outputs": [
    {
     "name": "stdout",
     "output_type": "stream",
     "text": [
      "Pass\n"
     ]
    }
   ],
   "source": [
    "def pass_or_fail(marks):\n",
    "    if marks > 40:\n",
    "        return \"Pass\"\n",
    "    else:\n",
    "        return \"Fail\"\n",
    "score = float(input(\"Enter student's marks: \"))\n",
    "result = pass_or_fail(score)\n",
    "print(result)"
   ]
  },
  {
   "cell_type": "code",
   "execution_count": 12,
   "id": "e4121538",
   "metadata": {},
   "outputs": [
    {
     "name": "stdout",
     "output_type": "stream",
     "text": [
      "pass\n"
     ]
    }
   ],
   "source": [
    "def pass_or_fail(marks):\n",
    "    return print(\"pass\") if marks > 40 else print(\"fail\")\n",
    "pass_or_fail(45)"
   ]
  },
  {
   "cell_type": "markdown",
   "id": "d85001fe",
   "metadata": {},
   "source": [
    "6) Write a program to display the day of the week based on a\n",
    "number input (1 for Monday, 2 for Tuesday, etc.)?"
   ]
  },
  {
   "cell_type": "code",
   "execution_count": 13,
   "id": "479318ff",
   "metadata": {},
   "outputs": [
    {
     "data": {
      "text/plain": [
       "'Friday'"
      ]
     },
     "execution_count": 13,
     "metadata": {},
     "output_type": "execute_result"
    }
   ],
   "source": [
    "def day_name_from_number(n):\n",
    "    days = [\"Monday\", \"Tuesday\", \"Wednesday\", \"Thursday\", \"Friday\", \"Saturday\", \"Sunday\"]\n",
    "    if 1 <= n <= 7:\n",
    "        return days[n-1]\n",
    "    return \"Invalid day number\"\n",
    "day_name_from_number(5)"
   ]
  },
  {
   "cell_type": "code",
   "execution_count": 15,
   "id": "93332ea1",
   "metadata": {},
   "outputs": [
    {
     "data": {
      "text/plain": [
       "'Sunday'"
      ]
     },
     "execution_count": 15,
     "metadata": {},
     "output_type": "execute_result"
    }
   ],
   "source": [
    "def day_name_from_number(n):\n",
    "    days = [\"Monday\", \"Tuesday\", \"Wednesday\", \"Thursday\", \"Friday\", \"Saturday\", \"Sunday\"]\n",
    "    return days[n-1] if 1 <= n <= 7  else print(\"Invalid day number\")\n",
    "day_name_from_number(7)"
   ]
  },
  {
   "cell_type": "markdown",
   "id": "b1757535",
   "metadata": {},
   "source": [
    "7) Implement a simple calculator to perform addition, subtraction, multiplication, and division?"
   ]
  },
  {
   "cell_type": "code",
   "execution_count": 16,
   "id": "194103ce",
   "metadata": {},
   "outputs": [
    {
     "name": "stdout",
     "output_type": "stream",
     "text": [
      "782.0\n"
     ]
    }
   ],
   "source": [
    "op = input(\"enter operator\").upper()\n",
    "num1 = float(input(\"enter num1\"))\n",
    "num2 = float(input(\"enter num2\"))\n",
    "\n",
    "def simple_cal(op,num1,num2):\n",
    "    if op in [\"+\",\"add\"]:\n",
    "        return num1 + num2\n",
    "    elif op == \"-\":\n",
    "        return num1 - num2 \n",
    "    elif op == \"*\":\n",
    "        return num1 * num2\n",
    "    elif op == \"/\":\n",
    "        return num1 / num2 if num2 != 0 else \"invalid denominator\"\n",
    "    else:\n",
    "        return \"invalid operator\"\n",
    "print(simple_cal(op,num1,num2))"
   ]
  },
  {
   "cell_type": "markdown",
   "id": "69e47210",
   "metadata": {},
   "source": [
    "8) Write a program to display the name of a month based on\n",
    "the month number (1 for January, 2 for February, etc.)?"
   ]
  },
  {
   "cell_type": "code",
   "execution_count": 17,
   "id": "c0eab09a",
   "metadata": {},
   "outputs": [
    {
     "name": "stdout",
     "output_type": "stream",
     "text": [
      "April\n"
     ]
    }
   ],
   "source": [
    "import calendar\n",
    "def get_month_name(month_number):\n",
    "    if 1 <= month_number <= 12:\n",
    "        return calendar.month_name[month_number]\n",
    "    return \"Invalid month number\"\n",
    "num = int(input(\"Enter month number: \"))\n",
    "print(get_month_name(num))\n"
   ]
  },
  {
   "cell_type": "code",
   "execution_count": null,
   "id": "059a9815",
   "metadata": {},
   "outputs": [
    {
     "name": "stdout",
     "output_type": "stream",
     "text": [
      "October\n"
     ]
    }
   ],
   "source": [
    "import calendar\n",
    "def get_month_name(month_number):\n",
    "    return calendar.month_name[month_number] if 1 <= month_number <= 12 else \"Invalid month number\"\n",
    "num = int(input(\"Enter month number: \"))\n",
    "print(get_month_name(num))"
   ]
  },
  {
   "cell_type": "markdown",
   "id": "1caf5555",
   "metadata": {},
   "source": [
    "MEDIUM QUESTION:\n",
    "\n",
    "1) Write a program to find the greatest of three numbers."
   ]
  },
  {
   "cell_type": "code",
   "execution_count": null,
   "id": "25f97533",
   "metadata": {},
   "outputs": [
    {
     "name": "stdout",
     "output_type": "stream",
     "text": [
      "7\n"
     ]
    }
   ],
   "source": [
    "def three_num(a,b,c):\n",
    "    if a > b and a > c:\n",
    "        print(a)\n",
    "    elif b > c:\n",
    "        print(b)\n",
    "    else:\n",
    "        print(c)\n",
    "three_num(2,4,7)"
   ]
  },
  {
   "cell_type": "code",
   "execution_count": null,
   "id": "bf998216",
   "metadata": {},
   "outputs": [
    {
     "name": "stdout",
     "output_type": "stream",
     "text": [
      "7\n"
     ]
    }
   ],
   "source": [
    "def three_num(a,b,c):\n",
    "    return print(a) if a > b and a > c else print(b) if b > c else print(c)\n",
    "three_num(2,4,7)"
   ]
  },
  {
   "cell_type": "markdown",
   "id": "301f0b2b",
   "metadata": {},
   "source": [
    "2) Check if a year is a leap year ?"
   ]
  },
  {
   "cell_type": "code",
   "execution_count": null,
   "id": "8291cfbe",
   "metadata": {},
   "outputs": [
    {
     "name": "stdout",
     "output_type": "stream",
     "text": [
      "it's not a leap year\n"
     ]
    }
   ],
   "source": [
    "def leap_year(a):\n",
    "    if a % 400 == 0 or a %100 != 0 and a % 4 == 0:\n",
    "        return \"leap year\"\n",
    "    else:\n",
    "        return \"it's not a leap year\"\n",
    "leap_year(1470)"
   ]
  },
  {
   "cell_type": "code",
   "execution_count": null,
   "id": "8ec7fe9e",
   "metadata": {},
   "outputs": [
    {
     "data": {
      "text/plain": [
       "'leap year'"
      ]
     },
     "execution_count": 3,
     "metadata": {},
     "output_type": "execute_result"
    }
   ],
   "source": [
    "def leap_year(a):\n",
    "    return \"leap year\" if a % 400 == 0 or a % 100 != 0 and a % 4 == 0 else \"it not a leap year\"\n",
    "leap_year(1460)"
   ]
  },
  {
   "cell_type": "markdown",
   "id": "f9bd7cd9",
   "metadata": {},
   "source": [
    "4) Calculate the grade of a student based on the marks they\n",
    "score:\n",
    "1. 90-100: Grade A\n",
    "2. 80-89: Grade B\n",
    "3. 70-79: Grade C\n",
    "4. <70: Fail."
   ]
  },
  {
   "cell_type": "code",
   "execution_count": null,
   "id": "c8f4529f",
   "metadata": {},
   "outputs": [
    {
     "name": "stdout",
     "output_type": "stream",
     "text": [
      "Grade B\n"
     ]
    }
   ],
   "source": [
    "def print_grade(marks):\n",
    "    if marks > 90:\n",
    "        print(\"Grade A\")\n",
    "    elif 80 <= marks < 90:\n",
    "        print(\"Grade B\")\n",
    "    elif 70 <= marks < 80:\n",
    "        print(\"Grade C\")\n",
    "    elif 0 <= marks < 70:\n",
    "        print(\"Fail\")\n",
    "    else:\n",
    "        print(\"Invalid marks\")\n",
    "print_grade(82)"
   ]
  },
  {
   "cell_type": "code",
   "execution_count": null,
   "id": "549c2080",
   "metadata": {},
   "outputs": [
    {
     "name": "stdout",
     "output_type": "stream",
     "text": [
      "Grade C\n"
     ]
    }
   ],
   "source": [
    "def print_grade(marks):\n",
    "    return \"Grade A\" if 90 <= marks <= 100 else \"Grade B\" if 80 <= marks <90 else \"Grade C\" if 70 <= marks < 80 else \"Fail\" if 0 <= marks < 70 else \"Invalid marks\"\n",
    "print_grade(79)"
   ]
  },
  {
   "cell_type": "markdown",
   "id": "840f13d1",
   "metadata": {},
   "source": [
    "5) Write a program to check if three sides length form a valid\n",
    "triangle?"
   ]
  },
  {
   "cell_type": "code",
   "execution_count": null,
   "id": "44bd22db",
   "metadata": {},
   "outputs": [
    {
     "name": "stdout",
     "output_type": "stream",
     "text": [
      "invalid triangle\n"
     ]
    }
   ],
   "source": [
    "def three_side_triangle(a,b,c):\n",
    "    if (a + b < c) and (a + c < b) and (b + c < a):\n",
    "        print(\"valid triangle\")\n",
    "    else:\n",
    "        print(\"cannot be formed triangle\")\n",
    "three_side_triangle(4,5,12)"
   ]
  },
  {
   "cell_type": "code",
   "execution_count": null,
   "id": "0d868184",
   "metadata": {},
   "outputs": [
    {
     "name": "stdout",
     "output_type": "stream",
     "text": [
      "invalid triangle\n"
     ]
    }
   ],
   "source": [
    "def three_side_triangle(a,b,c):\n",
    "    return \"valid triangle\" if (a + b < c) and (a + c < b) and (b + c < a) else \"invalid triangle\"\n",
    "three_side_triangle(2,3,5)"
   ]
  },
  {
   "cell_type": "code",
   "execution_count": 7,
   "id": "3869b55c",
   "metadata": {},
   "outputs": [
    {
     "name": "stdout",
     "output_type": "stream",
     "text": [
      "triangle can be formed\n",
      "Scalar Triangle\n"
     ]
    }
   ],
   "source": [
    "def three_side_triangle(a,b,c):\n",
    "    if (a + b > c) and (a + c > b) and (b + c > a):\n",
    "        print(\"triangle can be formed\")\n",
    "        if a == b == c:\n",
    "            print('equal Triangle')\n",
    "        elif a == b or b == c or c == a:\n",
    "            print('Isosceles Triangle')\n",
    "        else:\n",
    "            print('Scalar Triangle')\n",
    "    elif (a)**2 == (b)**2 + (c)**2 or (b)**2 == (a)**2 + (c)**2 or (c)**2 == (a)**2 + (b)**2:\n",
    "        print(\"right angled triangle\")\n",
    "    else:\n",
    "        print(\"cannot be formed triangle\")\n",
    "a=int(input('Enter side1:'))\n",
    "b=int(input('Enter side2:'))\n",
    "c=int(input('Enter side3:'))\n",
    "three_side_triangle(a,b,c)\n"
   ]
  },
  {
   "cell_type": "markdown",
   "id": "a1efe332",
   "metadata": {},
   "source": [
    "3) Write a program to classify a character entered by the user\n",
    "as a vowel, consonant, or neither ?"
   ]
  },
  {
   "cell_type": "code",
   "execution_count": 6,
   "id": "4f70224b",
   "metadata": {},
   "outputs": [
    {
     "name": "stdout",
     "output_type": "stream",
     "text": [
      "vowel\n"
     ]
    }
   ],
   "source": [
    "input_char = input(\"enter a character\").lower()\n",
    "\n",
    "def check_ch (in_ch):\n",
    "    if len(in_ch) != 1:\n",
    "        return \"invalid input\"\n",
    "\n",
    "    if in_ch in \"aeiou\":\n",
    "        print(\"vowel\")\n",
    "    elif in_ch.isalpha():\n",
    "        print(\"consonant\")\n",
    "    else:\n",
    "        print(\"neither\")\n",
    "check_ch(input_char)"
   ]
  },
  {
   "cell_type": "markdown",
   "id": "53dbaace",
   "metadata": {},
   "source": [
    "LOOPS CONCEPT\n",
    "\n",
    "\n",
    "1) Print all numbers from 1 to 100 using a for loop."
   ]
  },
  {
   "cell_type": "code",
   "execution_count": null,
   "id": "7abe4b89",
   "metadata": {},
   "outputs": [],
   "source": [
    "def for_loop(n):\n",
    "    for i in range (1,n+1):\n",
    "        print(i)\n",
    "        i+=1\n",
    "for_loop(20)"
   ]
  },
  {
   "cell_type": "markdown",
   "id": "2f2d1ce1",
   "metadata": {},
   "source": [
    "2) Write a program to print the sum of the first n natural numbers. (n*n+1/ 2)"
   ]
  },
  {
   "cell_type": "code",
   "execution_count": 5,
   "id": "d43306a5",
   "metadata": {},
   "outputs": [
    {
     "name": "stdout",
     "output_type": "stream",
     "text": [
      "55.0\n"
     ]
    }
   ],
   "source": [
    "def sum_loop(n):\n",
    "    print((n * (n+1))/2)\n",
    "sum_loop(int(input(\"enter sum of numbers: \")))"
   ]
  },
  {
   "cell_type": "markdown",
   "id": "5c07345f",
   "metadata": {},
   "source": [
    "3) Print all even numbers between 1 and 50 using a while loop."
   ]
  },
  {
   "cell_type": "code",
   "execution_count": 5,
   "id": "954529cc",
   "metadata": {},
   "outputs": [
    {
     "name": "stdout",
     "output_type": "stream",
     "text": [
      "2\n",
      "4\n",
      "6\n",
      "8\n",
      "10\n",
      "12\n",
      "14\n",
      "16\n",
      "18\n",
      "20\n",
      "22\n",
      "24\n",
      "26\n",
      "28\n",
      "30\n",
      "32\n",
      "34\n",
      "36\n",
      "38\n",
      "40\n",
      "42\n",
      "44\n",
      "46\n",
      "48\n",
      "50\n"
     ]
    }
   ],
   "source": [
    "def while_loop(a,b):\n",
    "    while a < b+1:\n",
    "        if a % 2 == 0:\n",
    "            print(a)\n",
    "        a+=1\n",
    "while_loop(1,50)"
   ]
  },
  {
   "cell_type": "markdown",
   "id": "54d5c047",
   "metadata": {},
   "source": [
    "4) Write a program to display the multiplication table of a given number. 1 to 20"
   ]
  },
  {
   "cell_type": "code",
   "execution_count": null,
   "id": "1fc087fc",
   "metadata": {},
   "outputs": [],
   "source": [
    "i = 1\n",
    "while i <= 20:\n",
    "    print(f\"\\nMultiplication table of {i}:\")\n",
    "    j = 1\n",
    "    while j <= 10:\n",
    "        print(f\"{i} x {j} = {i * j}\")\n",
    "        j += 1\n",
    "    i += 1"
   ]
  },
  {
   "cell_type": "markdown",
   "id": "3302d0e3",
   "metadata": {},
   "source": [
    "5) Reverse a number using a while loop.\n",
    "    1. Also can we get the sum of all the digits."
   ]
  },
  {
   "cell_type": "code",
   "execution_count": null,
   "id": "098df666",
   "metadata": {},
   "outputs": [],
   "source": [
    "def reverse(num):\n",
    "    rev=0\n",
    "    while num>0:\n",
    "        rem=num%10\n",
    "        rev=rev*10+rem\n",
    "        num=num//10\n",
    "    return rev\n",
    "num=int(input())\n",
    "result=reverse(num)\n",
    "print(result)"
   ]
  },
  {
   "cell_type": "markdown",
   "id": "4aca7ccd",
   "metadata": {},
   "source": [
    "6) Write a program to count the number of digits in a given number using a while loop."
   ]
  },
  {
   "cell_type": "markdown",
   "id": "3c5e278c",
   "metadata": {},
   "source": [
    "7) Write a program that keeps asking the user to enter numbers until they enter a negative number. Use a while loop."
   ]
  },
  {
   "cell_type": "markdown",
   "id": "b69cd6b3",
   "metadata": {},
   "source": [
    "MEDIUM QUESTIONS\n",
    "\n",
    "1) Print the first 10 terms of the Fibonacci series using a for loop."
   ]
  },
  {
   "cell_type": "markdown",
   "id": "b99019ae",
   "metadata": {},
   "source": [
    "2) Print the first 10 terms of the Fibonacci series using a for loop."
   ]
  },
  {
   "cell_type": "markdown",
   "id": "2617d03c",
   "metadata": {},
   "source": [
    "3) Write a program to calculate the factorial of a number using a while loop"
   ]
  },
  {
   "cell_type": "code",
   "execution_count": null,
   "id": "8d43d26c",
   "metadata": {},
   "outputs": [],
   "source": [
    "def factorial(num):\n",
    "    if num==0 or num==1:\n",
    "        return 1\n",
    "    else:\n",
    "        fact=1\n",
    "        while num>0:\n",
    "            fact*=num\n",
    "            num-=1\n",
    "    return fact\n",
    "num=int(input(\"Enter a Number: \"))\n",
    "result=factorial(num)\n",
    "print(result)"
   ]
  },
  {
   "cell_type": "markdown",
   "id": "26825a51",
   "metadata": {},
   "source": [
    "4) Print all numbers from 1 to 100 that are divisible by 3 and 5 using a for loop."
   ]
  },
  {
   "cell_type": "code",
   "execution_count": 1,
   "id": "8df185bd",
   "metadata": {},
   "outputs": [
    {
     "name": "stdout",
     "output_type": "stream",
     "text": [
      "15\n",
      "30\n",
      "45\n",
      "60\n",
      "75\n",
      "90\n"
     ]
    }
   ],
   "source": [
    "for i in range(1,101):\n",
    "    if i % 3 == 0 and i % 5 == 0:\n",
    "        print(i)        "
   ]
  },
  {
   "cell_type": "markdown",
   "id": "f1e7dd23",
   "metadata": {},
   "source": [
    "5) Implement a menu-driven program where the user can\n",
    "choose to:\n",
    "1. Find the square of a number.\n",
    "2. Find the cube of a number.\n",
    "3. Exit"
   ]
  },
  {
   "cell_type": "code",
   "execution_count": null,
   "id": "e0282c0b",
   "metadata": {},
   "outputs": [],
   "source": [
    "while True:\n",
    "    print(\"1.square , 2.cube , any other option will exit the code\")\n",
    "    choice = input(\"enter your choice\")\n",
    "    if choice == \"1\" or choice == \"square\":\n",
    "        input_num =float(input(\"enter the number to square\"))\n",
    "        print(input_num ** 2)\n",
    "    elif choice ==\"2\" or choice == \"cube\":\n",
    "        input_num =float(input(\"enter the number to cube\"))\n",
    "        print(input_num ** 3)\n",
    "    else:\n",
    "        print(\"No valid option picked\")\n",
    "        print(\"---Exiting---\")\n",
    "    break"
   ]
  },
  {
   "cell_type": "markdown",
   "id": "2916ef66",
   "metadata": {},
   "source": [
    "6) Implement a basic login system where the user has three attempts to enter the correct password using a loop."
   ]
  }
 ],
 "metadata": {
  "kernelspec": {
   "display_name": "Python 3",
   "language": "python",
   "name": "python3"
  },
  "language_info": {
   "codemirror_mode": {
    "name": "ipython",
    "version": 3
   },
   "file_extension": ".py",
   "mimetype": "text/x-python",
   "name": "python",
   "nbconvert_exporter": "python",
   "pygments_lexer": "ipython3",
   "version": "3.13.2"
  }
 },
 "nbformat": 4,
 "nbformat_minor": 5
}
