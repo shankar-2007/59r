{
 "cells": [
  {
   "cell_type": "markdown",
   "id": "774d0f48",
   "metadata": {},
   "source": [
    "Write a program to check if a given number is positive,\n",
    "negative, or zero ?"
   ]
  },
  {
   "cell_type": "code",
   "execution_count": 2,
   "id": "58ee480f",
   "metadata": {},
   "outputs": [
    {
     "name": "stdout",
     "output_type": "stream",
     "text": [
      "Positive\n"
     ]
    }
   ],
   "source": [
    "def check_sign(n):\n",
    "    if n > 0:\n",
    "        return \"Positive\"\n",
    "    elif n < 0:\n",
    "        return \"Negative\"\n",
    "    else:\n",
    "        return \"Zero\"\n",
    "num = float(input(\"Enter a number: \"))\n",
    "result = check_sign(num)\n",
    "print(result)"
   ]
  },
  {
   "cell_type": "code",
   "execution_count": 1,
   "id": "eb4c574d",
   "metadata": {},
   "outputs": [
    {
     "name": "stdout",
     "output_type": "stream",
     "text": [
      "negative\n"
     ]
    }
   ],
   "source": [
    "def check_sign(n):\n",
    "    return print(\"Positive\") if n > 0 else print(\"negative\") if n < 0 else print(\"Zero\")\n",
    "n = float(input(\"Enter a number: \"))\n",
    "check_sign(n)"
   ]
  },
  {
   "cell_type": "markdown",
   "id": "b1596965",
   "metadata": {},
   "source": [
    "Determine if a number is odd or even?"
   ]
  },
  {
   "cell_type": "code",
   "execution_count": null,
   "id": "fd5ae90d",
   "metadata": {},
   "outputs": [],
   "source": [
    "def check_odd_even(num):\n",
    "    if num % 2 == 0:\n",
    "        return \"Even\"\n",
    "    else:\n",
    "        return \"Odd\"\n",
    "n = int(input(\"Enter a number: \"))\n",
    "result=check_odd_even(n)\n",
    "print(result)\n"
   ]
  },
  {
   "cell_type": "markdown",
   "id": "0f1d4895",
   "metadata": {},
   "source": [
    "Check if a person is eligible to vote (age >= 18).\n"
   ]
  },
  {
   "cell_type": "code",
   "execution_count": 4,
   "id": "1c306710",
   "metadata": {},
   "outputs": [
    {
     "name": "stdout",
     "output_type": "stream",
     "text": [
      "u can vote\n"
     ]
    }
   ],
   "source": [
    "def check_age(a):\n",
    "    if a >= 18:\n",
    "        return print(\"u can vote\")\n",
    "    else:\n",
    "        return print(\"u can't vote\")\n",
    "check_age(22)"
   ]
  },
  {
   "cell_type": "code",
   "execution_count": 5,
   "id": "33198c38",
   "metadata": {},
   "outputs": [
    {
     "name": "stdout",
     "output_type": "stream",
     "text": [
      "u can't vote\n"
     ]
    }
   ],
   "source": [
    "def check_age(a):\n",
    "    return print(\"u can vote\") if a >=18 else print(\"u can't vote\")\n",
    "check_age(16)"
   ]
  },
  {
   "cell_type": "markdown",
   "id": "62636760",
   "metadata": {},
   "source": [
    "Write a program to find the greatest of two numbers ?\n"
   ]
  },
  {
   "cell_type": "code",
   "execution_count": 7,
   "id": "1daa7700",
   "metadata": {},
   "outputs": [
    {
     "name": "stdout",
     "output_type": "stream",
     "text": [
      "60\n"
     ]
    }
   ],
   "source": [
    "def greater_than(a,b):\n",
    "    if a > b:\n",
    "        return print(a)\n",
    "    else:\n",
    "        return print(b)\n",
    "greater_than(22,60)"
   ]
  },
  {
   "cell_type": "code",
   "execution_count": 6,
   "id": "01ea3b2f",
   "metadata": {},
   "outputs": [
    {
     "name": "stdout",
     "output_type": "stream",
     "text": [
      "24\n"
     ]
    }
   ],
   "source": [
    "def greater_than(a,b):\n",
    "    print(a) if a > b else print(b)\n",
    "greater_than(24,24)"
   ]
  },
  {
   "cell_type": "markdown",
   "id": "f81855df",
   "metadata": {},
   "source": [
    "Print \"Pass\" if a student scores more than 40 marks;\n",
    "otherwise, print \"Fail.\"?"
   ]
  },
  {
   "cell_type": "code",
   "execution_count": 8,
   "id": "93297c66",
   "metadata": {},
   "outputs": [
    {
     "name": "stdout",
     "output_type": "stream",
     "text": [
      "Pass\n"
     ]
    }
   ],
   "source": [
    "def pass_or_fail(marks):\n",
    "    if marks > 40:\n",
    "        return \"Pass\"\n",
    "    return \"Fail\"\n",
    "score = float(input(\"Enter student's marks: \"))\n",
    "result = pass_or_fail(score)\n",
    "print(result)"
   ]
  },
  {
   "cell_type": "code",
   "execution_count": 9,
   "id": "228b4654",
   "metadata": {},
   "outputs": [
    {
     "name": "stdout",
     "output_type": "stream",
     "text": [
      "Pass\n"
     ]
    }
   ],
   "source": [
    "def pass_or_fail(marks):\n",
    "    if marks > 40:\n",
    "        return \"Pass\"\n",
    "    else:\n",
    "        return \"Fail\"\n",
    "score = float(input(\"Enter student's marks: \"))\n",
    "result = pass_or_fail(score)\n",
    "print(result)"
   ]
  },
  {
   "cell_type": "code",
   "execution_count": 12,
   "id": "e4121538",
   "metadata": {},
   "outputs": [
    {
     "name": "stdout",
     "output_type": "stream",
     "text": [
      "pass\n"
     ]
    }
   ],
   "source": [
    "def pass_or_fail(marks):\n",
    "    return print(\"pass\") if marks > 40 else print(\"fail\")\n",
    "pass_or_fail(45)"
   ]
  },
  {
   "cell_type": "markdown",
   "id": "d85001fe",
   "metadata": {},
   "source": [
    "Write a program to display the day of the week based on a\n",
    "number input (1 for Monday, 2 for Tuesday, etc.)?"
   ]
  },
  {
   "cell_type": "code",
   "execution_count": 13,
   "id": "479318ff",
   "metadata": {},
   "outputs": [
    {
     "data": {
      "text/plain": [
       "'Friday'"
      ]
     },
     "execution_count": 13,
     "metadata": {},
     "output_type": "execute_result"
    }
   ],
   "source": [
    "def day_name_from_number(n):\n",
    "    days = [\"Monday\", \"Tuesday\", \"Wednesday\", \"Thursday\", \"Friday\", \"Saturday\", \"Sunday\"]\n",
    "    if 1 <= n <= 7:\n",
    "        return days[n-1]\n",
    "    return \"Invalid day number\"\n",
    "day_name_from_number(5)"
   ]
  },
  {
   "cell_type": "code",
   "execution_count": 15,
   "id": "93332ea1",
   "metadata": {},
   "outputs": [
    {
     "data": {
      "text/plain": [
       "'Sunday'"
      ]
     },
     "execution_count": 15,
     "metadata": {},
     "output_type": "execute_result"
    }
   ],
   "source": [
    "def day_name_from_number(n):\n",
    "    days = [\"Monday\", \"Tuesday\", \"Wednesday\", \"Thursday\", \"Friday\", \"Saturday\", \"Sunday\"]\n",
    "    return days[n-1] if 1 <= n <= 7  else print(\"Invalid day number\")\n",
    "day_name_from_number(7)"
   ]
  },
  {
   "cell_type": "markdown",
   "id": "b1757535",
   "metadata": {},
   "source": [
    "Implement a simple calculator to perform addition,\n",
    "subtraction, multiplication, and division?"
   ]
  },
  {
   "cell_type": "code",
   "execution_count": 16,
   "id": "194103ce",
   "metadata": {},
   "outputs": [
    {
     "name": "stdout",
     "output_type": "stream",
     "text": [
      "782.0\n"
     ]
    }
   ],
   "source": [
    "op = input(\"enter operator\").upper()\n",
    "num1 = float(input(\"enter num1\"))\n",
    "num2 = float(input(\"enter num2\"))\n",
    "\n",
    "def simple_cal(op,num1,num2):\n",
    "    if op in [\"+\",\"add\"]:\n",
    "        return num1 + num2\n",
    "    elif op == \"-\":\n",
    "        return num1 - num2 \n",
    "    elif op == \"*\":\n",
    "        return num1 * num2\n",
    "    elif op == \"/\":\n",
    "        return num1 / num2 if num2 != 0 else \"invalid denominator\"\n",
    "    else:\n",
    "        return \"invalid operator\"\n",
    "print(simple_cal(op,num1,num2))"
   ]
  },
  {
   "cell_type": "markdown",
   "id": "69e47210",
   "metadata": {},
   "source": [
    "Write a program to display the name of a month based on\n",
    "the month number (1 for January, 2 for February, etc.)?"
   ]
  },
  {
   "cell_type": "code",
   "execution_count": 17,
   "id": "c0eab09a",
   "metadata": {},
   "outputs": [
    {
     "name": "stdout",
     "output_type": "stream",
     "text": [
      "April\n"
     ]
    }
   ],
   "source": [
    "import calendar\n",
    "def get_month_name(month_number):\n",
    "    if 1 <= month_number <= 12:\n",
    "        return calendar.month_name[month_number]\n",
    "    return \"Invalid month number\"\n",
    "num = int(input(\"Enter month number: \"))\n",
    "print(get_month_name(num))\n"
   ]
  },
  {
   "cell_type": "code",
   "execution_count": null,
   "id": "059a9815",
   "metadata": {},
   "outputs": [
    {
     "name": "stdout",
     "output_type": "stream",
     "text": [
      "October\n"
     ]
    }
   ],
   "source": [
    "import calendar\n",
    "def get_month_name(month_number):\n",
    "    return calendar.month_name[month_number] if 1 <= month_number <= 12 else \"Invalid month number\"\n",
    "num = int(input(\"Enter month number: \"))\n",
    "print(get_month_name(num))"
   ]
  },
  {
   "cell_type": "markdown",
   "id": "1caf5555",
   "metadata": {},
   "source": [
    "MEDIUM QUESTION:\n",
    "\n",
    "Write a program to find the greatest of three numbers."
   ]
  },
  {
   "cell_type": "code",
   "execution_count": null,
   "id": "25f97533",
   "metadata": {},
   "outputs": [
    {
     "name": "stdout",
     "output_type": "stream",
     "text": [
      "7\n"
     ]
    }
   ],
   "source": [
    "def three_num(a,b,c):\n",
    "    if a > b and a > c:\n",
    "        print(a)\n",
    "    elif b > c:\n",
    "        print(b)\n",
    "    else:\n",
    "        print(c)\n",
    "three_num(2,4,7)"
   ]
  },
  {
   "cell_type": "code",
   "execution_count": null,
   "id": "bf998216",
   "metadata": {},
   "outputs": [
    {
     "name": "stdout",
     "output_type": "stream",
     "text": [
      "7\n"
     ]
    }
   ],
   "source": [
    "def three_num(a,b,c):\n",
    "    return print(a) if a > b and a > c else print(b) if b > c else print(c)\n",
    "three_num(2,4,7)"
   ]
  },
  {
   "cell_type": "markdown",
   "id": "301f0b2b",
   "metadata": {},
   "source": [
    "Check if a year is a leap year ?"
   ]
  },
  {
   "cell_type": "code",
   "execution_count": null,
   "id": "8291cfbe",
   "metadata": {},
   "outputs": [
    {
     "name": "stdout",
     "output_type": "stream",
     "text": [
      "it's not a leap year\n"
     ]
    }
   ],
   "source": [
    "def leap_year(a):\n",
    "    if a % 400 == 0 or a %100 != 0 and a % 4 == 0:\n",
    "        return \"leap year\"\n",
    "    else:\n",
    "        return \"it's not a leap year\"\n",
    "leap_year(1470)"
   ]
  },
  {
   "cell_type": "code",
   "execution_count": null,
   "id": "8ec7fe9e",
   "metadata": {},
   "outputs": [
    {
     "data": {
      "text/plain": [
       "'leap year'"
      ]
     },
     "execution_count": 3,
     "metadata": {},
     "output_type": "execute_result"
    }
   ],
   "source": [
    "def leap_year(a):\n",
    "    return \"leap year\" if a % 400 == 0 or a % 100 != 0 and a % 4 == 0 else \"it not a leap year\"\n",
    "leap_year(1460)"
   ]
  },
  {
   "cell_type": "markdown",
   "id": "f9bd7cd9",
   "metadata": {},
   "source": [
    "Calculate the grade of a student based on the marks they\n",
    "score:\n",
    "1. 90-100: Grade A\n",
    "2. 80-89: Grade B\n",
    "3. 70-79: Grade C\n",
    "4. <70: Fail."
   ]
  },
  {
   "cell_type": "code",
   "execution_count": null,
   "id": "c8f4529f",
   "metadata": {},
   "outputs": [
    {
     "name": "stdout",
     "output_type": "stream",
     "text": [
      "Grade B\n"
     ]
    }
   ],
   "source": [
    "def print_grade(marks):\n",
    "    if marks > 90:\n",
    "        print(\"Grade A\")\n",
    "    elif 80 <= marks < 90:\n",
    "        print(\"Grade B\")\n",
    "    elif 70 <= marks < 80:\n",
    "        print(\"Grade C\")\n",
    "    elif 0 <= marks < 70:\n",
    "        print(\"Fail\")\n",
    "    else:\n",
    "        print(\"Invalid marks\")\n",
    "print_grade(82)"
   ]
  },
  {
   "cell_type": "code",
   "execution_count": null,
   "id": "549c2080",
   "metadata": {},
   "outputs": [
    {
     "name": "stdout",
     "output_type": "stream",
     "text": [
      "Grade C\n"
     ]
    }
   ],
   "source": [
    "def print_grade(marks):\n",
    "    return \"Grade A\" if 90 <= marks <= 100 else \"Grade B\" if 80 <= marks <90 else \"Grade C\" if 70 <= marks < 80 else \"Fail\" if 0 <= marks < 70 else \"Invalid marks\"\n",
    "print_grade(79)"
   ]
  },
  {
   "cell_type": "markdown",
   "id": "840f13d1",
   "metadata": {},
   "source": [
    "Write a program to check if three sides length form a valid\n",
    "triangle?"
   ]
  },
  {
   "cell_type": "code",
   "execution_count": null,
   "id": "44bd22db",
   "metadata": {},
   "outputs": [
    {
     "name": "stdout",
     "output_type": "stream",
     "text": [
      "invalid triangle\n"
     ]
    }
   ],
   "source": [
    "def three_side_triangle(a,b,c):\n",
    "    if (a + b < c) and (a + c < b) and (b + c < a):\n",
    "        print(\"valid triangle\")\n",
    "    else:\n",
    "        print(\"cannot be formed triangle\")\n",
    "three_side_triangle(4,5,12)"
   ]
  },
  {
   "cell_type": "code",
   "execution_count": null,
   "id": "0d868184",
   "metadata": {},
   "outputs": [
    {
     "name": "stdout",
     "output_type": "stream",
     "text": [
      "invalid triangle\n"
     ]
    }
   ],
   "source": [
    "def three_side_triangle(a,b,c):\n",
    "    return \"valid triangle\" if (a + b < c) and (a + c < b) and (b + c < a) else \"invalid triangle\"\n",
    "three_side_triangle(2,3,5)"
   ]
  },
  {
   "cell_type": "code",
   "execution_count": 7,
   "id": "3869b55c",
   "metadata": {},
   "outputs": [
    {
     "name": "stdout",
     "output_type": "stream",
     "text": [
      "triangle can be formed\n",
      "Scalar Triangle\n"
     ]
    }
   ],
   "source": [
    "def three_side_triangle(a,b,c):\n",
    "    if (a + b > c) and (a + c > b) and (b + c > a):\n",
    "        print(\"triangle can be formed\")\n",
    "        if a == b == c:\n",
    "            print('equal Triangle')\n",
    "        elif a == b or b == c or c == a:\n",
    "            print('Isosceles Triangle')\n",
    "        else:\n",
    "            print('Scalar Triangle')\n",
    "    elif (a)**2 == (b)**2 + (c)**2 or (b)**2 == (a)**2 + (c)**2 or (c)**2 == (a)**2 + (b)**2:\n",
    "        print(\"right angled triangle\")\n",
    "    else:\n",
    "        print(\"cannot be formed triangle\")\n",
    "a=int(input('Enter side1:'))\n",
    "b=int(input('Enter side2:'))\n",
    "c=int(input('Enter side3:'))\n",
    "three_side_triangle(a,b,c)\n"
   ]
  },
  {
   "cell_type": "markdown",
   "id": "a1efe332",
   "metadata": {},
   "source": [
    "Write a program to classify a character entered by the user\n",
    "as a vowel, consonant, or neither ?"
   ]
  },
  {
   "cell_type": "code",
   "execution_count": 6,
   "id": "4f70224b",
   "metadata": {},
   "outputs": [
    {
     "name": "stdout",
     "output_type": "stream",
     "text": [
      "vowel\n"
     ]
    }
   ],
   "source": [
    "input_char = input(\"enter a character\").lower()\n",
    "\n",
    "def check_ch (in_ch):\n",
    "    if len(in_ch) != 1:\n",
    "        return \"invalid input\"\n",
    "\n",
    "    if in_ch in \"aeiou\":\n",
    "        print(\"vowel\")\n",
    "    elif in_ch.isalpha():\n",
    "        print(\"consonant\")\n",
    "    else:\n",
    "        print(\"neither\")\n",
    "check_ch(input_char)"
   ]
  }
 ],
 "metadata": {
  "kernelspec": {
   "display_name": "Python 3",
   "language": "python",
   "name": "python3"
  },
  "language_info": {
   "codemirror_mode": {
    "name": "ipython",
    "version": 3
   },
   "file_extension": ".py",
   "mimetype": "text/x-python",
   "name": "python",
   "nbconvert_exporter": "python",
   "pygments_lexer": "ipython3",
   "version": "3.13.2"
  }
 },
 "nbformat": 4,
 "nbformat_minor": 5
}
